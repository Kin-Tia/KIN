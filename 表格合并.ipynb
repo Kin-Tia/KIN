{
 "cells": [
  {
   "cell_type": "code",
   "execution_count": 1,
   "id": "2ff83d18-c63c-48bf-80c7-ff3064cbe331",
   "metadata": {},
   "outputs": [],
   "source": [
    "import pandas as pd"
   ]
  },
  {
   "cell_type": "code",
   "execution_count": 2,
   "id": "4ecf1c10-ae88-46e4-b19e-d65acea356b0",
   "metadata": {},
   "outputs": [],
   "source": [
    "import os"
   ]
  },
  {
   "cell_type": "code",
   "execution_count": 48,
   "id": "5b44b16c-2e39-4a0f-90f9-19d0d4fc5ea9",
   "metadata": {},
   "outputs": [],
   "source": [
    "import numpy as np"
   ]
  },
  {
   "cell_type": "code",
   "execution_count": 6,
   "id": "e9e737bd-40ac-4d63-9d43-87f3df190a2d",
   "metadata": {},
   "outputs": [],
   "source": [
    "# 指定文件夹路径\n",
    "folder_path = \"D:\\\\gaotongliang\\\\0\""
   ]
  },
  {
   "cell_type": "code",
   "execution_count": 7,
   "id": "65283b61-ae16-410e-9492-2b3f8c15ae6e",
   "metadata": {},
   "outputs": [],
   "source": [
    "# 获取文件夹中所有的 CSV 文件名\n",
    "csv_files = [file for file in os.listdir(folder_path) if file.endswith('.csv')]"
   ]
  },
  {
   "cell_type": "code",
   "execution_count": 8,
   "id": "5fdc06b4-d43e-471e-b247-93ac91dbcc5d",
   "metadata": {},
   "outputs": [],
   "source": [
    "# 初始化一个空的 DataFrame 用于存储合并结果\n",
    "combined_df = pd.DataFrame()"
   ]
  },
  {
   "cell_type": "code",
   "execution_count": 9,
   "id": "93e641e5-89e7-49e1-918f-64b9dd3ba4cf",
   "metadata": {},
   "outputs": [],
   "source": [
    "# 遍历所有 CSV 文件并读取内容\n",
    "for file in csv_files:\n",
    "    file_path = os.path.join(folder_path, file)\n",
    "    df = pd.read_csv(file_path)\n",
    "    combined_df = pd.concat([combined_df, df], ignore_index=True)"
   ]
  },
  {
   "cell_type": "code",
   "execution_count": 10,
   "id": "6910d481-67df-4566-a162-e08bc3c68c8f",
   "metadata": {},
   "outputs": [
    {
     "name": "stdout",
     "output_type": "stream",
     "text": [
      "     Mutation    Count\n",
      "0        A19A  2819896\n",
      "1        A19C       47\n",
      "2        A19D      217\n",
      "3        A19E      277\n",
      "4        A19F      864\n",
      "...       ...      ...\n",
      "9473    Y372T      139\n",
      "9474    Y372V        1\n",
      "9475    Y372W       14\n",
      "9476    Y372X        8\n",
      "9477    Y372Y  1496956\n",
      "\n",
      "[9478 rows x 2 columns]\n"
     ]
    }
   ],
   "source": [
    "# 输出合并后的 DataFrame\n",
    "print(combined_df)"
   ]
  },
  {
   "cell_type": "code",
   "execution_count": 11,
   "id": "1d7bafdf-b6f0-4b6c-b547-6385fabc4ac1",
   "metadata": {},
   "outputs": [],
   "source": [
    "combined_df.to_csv('combined_df_0.csv', index=False)  "
   ]
  },
  {
   "cell_type": "code",
   "execution_count": 15,
   "id": "42e76eb3-a120-4c0b-9aea-17d70a61efeb",
   "metadata": {},
   "outputs": [],
   "source": [
    "combined_df.to_csv(\"D:\\\\gaotongliang\\\\0\\\\combined_df_0.csv\", index=False)  "
   ]
  },
  {
   "cell_type": "code",
   "execution_count": 17,
   "id": "6b29dca8-ec76-4e6c-8123-dfb823d8a9ea",
   "metadata": {},
   "outputs": [],
   "source": [
    "folder_path = \"D:\\\\gaotongliang\\\\2\"\n",
    "csv_files = [file for file in os.listdir(folder_path) if file.endswith('.csv')]\n",
    "combined_df = pd.DataFrame()\n",
    "for file in csv_files:\n",
    "    file_path = os.path.join(folder_path, file)\n",
    "    df = pd.read_csv(file_path)\n",
    "    combined_df = pd.concat([combined_df, df], ignore_index=True)\n",
    "combined_df.to_csv(\"D:\\\\gaotongliang\\\\2\\\\combined_df_2.csv\", index=False)  "
   ]
  },
  {
   "cell_type": "code",
   "execution_count": 18,
   "id": "076c6ec6-51f6-4937-9cbd-60ebc4f9119b",
   "metadata": {},
   "outputs": [],
   "source": [
    "folder_path = \"D:\\\\gaotongliang\\\\3\"\n",
    "csv_files = [file for file in os.listdir(folder_path) if file.endswith('.csv')]\n",
    "combined_df = pd.DataFrame()\n",
    "for file in csv_files:\n",
    "    file_path = os.path.join(folder_path, file)\n",
    "    df = pd.read_csv(file_path)\n",
    "    combined_df = pd.concat([combined_df, df], ignore_index=True)\n",
    "combined_df.to_csv(\"D:\\\\gaotongliang\\\\3\\\\combined_df_3.csv\", index=False)  "
   ]
  },
  {
   "cell_type": "code",
   "execution_count": 3,
   "id": "27f42b0f-5cd7-45c0-b2d7-84f4ee579e5c",
   "metadata": {},
   "outputs": [],
   "source": [
    "cf_0 = pd.read_csv('D:\\\\gaotongliang\\\\0\\\\combined_df_0.csv')"
   ]
  },
  {
   "cell_type": "code",
   "execution_count": 8,
   "id": "54b097e2-0da6-4483-90c5-383284d641d6",
   "metadata": {},
   "outputs": [
    {
     "data": {
      "text/plain": [
       "<bound method NDFrame.sample of      Mutation    Count  Position\n",
       "0        A19A  2819896        19\n",
       "1        A19C       47        19\n",
       "2        A19D      217        19\n",
       "3        A19E      277        19\n",
       "4        A19F      864        19\n",
       "...       ...      ...       ...\n",
       "9473    Y372T      139       372\n",
       "9474    Y372V        1       372\n",
       "9475    Y372W       14       372\n",
       "9476    Y372X        8       372\n",
       "9477    Y372Y  1496956       372\n",
       "\n",
       "[9478 rows x 3 columns]>"
      ]
     },
     "execution_count": 8,
     "metadata": {},
     "output_type": "execute_result"
    }
   ],
   "source": [
    "cf_0.sample\n"
   ]
  },
  {
   "cell_type": "code",
   "execution_count": 5,
   "id": "3d463ba0-6a9b-426e-ad29-bd4b92cab686",
   "metadata": {},
   "outputs": [],
   "source": [
    "cf_2 = pd.read_csv('D:\\\\gaotongliang\\\\2\\\\combined_df_2.csv')"
   ]
  },
  {
   "cell_type": "code",
   "execution_count": 6,
   "id": "52dbd078-c6d9-4145-830f-356309eaa325",
   "metadata": {},
   "outputs": [],
   "source": [
    "cf_3 = pd.read_csv('D:\\\\gaotongliang\\\\3\\\\combined_df_3.csv')"
   ]
  },
  {
   "cell_type": "markdown",
   "id": "2a59dbd8-ef0e-447c-9805-48fa708964f2",
   "metadata": {},
   "source": [
    "## 提取位点位置"
   ]
  },
  {
   "cell_type": "code",
   "execution_count": 7,
   "id": "ac42412f-9e5d-45a0-9a44-b843138ed6a2",
   "metadata": {},
   "outputs": [],
   "source": [
    "cf_0['Position'] = cf_0['Mutation'].str.extract(r'(\\d+)').astype(int)"
   ]
  },
  {
   "cell_type": "code",
   "execution_count": 9,
   "id": "916002a1-f6b7-4a16-a41c-06d71d5137ce",
   "metadata": {},
   "outputs": [],
   "source": [
    "cf_2['Position'] = cf_2['Mutation'].str.extract(r'(\\d+)').astype(int)"
   ]
  },
  {
   "cell_type": "code",
   "execution_count": 10,
   "id": "7d2121e3-e31a-4144-8c65-f3651aa19150",
   "metadata": {},
   "outputs": [],
   "source": [
    "cf_3['Position'] = cf_3['Mutation'].str.extract(r'(\\d+)').astype(int)"
   ]
  },
  {
   "cell_type": "code",
   "execution_count": 11,
   "id": "24dda46f-8fb7-46b2-aaa7-442fe4522ec5",
   "metadata": {},
   "outputs": [
    {
     "data": {
      "text/html": [
       "<div>\n",
       "<style scoped>\n",
       "    .dataframe tbody tr th:only-of-type {\n",
       "        vertical-align: middle;\n",
       "    }\n",
       "\n",
       "    .dataframe tbody tr th {\n",
       "        vertical-align: top;\n",
       "    }\n",
       "\n",
       "    .dataframe thead th {\n",
       "        text-align: right;\n",
       "    }\n",
       "</style>\n",
       "<table border=\"1\" class=\"dataframe\">\n",
       "  <thead>\n",
       "    <tr style=\"text-align: right;\">\n",
       "      <th></th>\n",
       "      <th>Mutation</th>\n",
       "      <th>Count</th>\n",
       "      <th>Position</th>\n",
       "    </tr>\n",
       "  </thead>\n",
       "  <tbody>\n",
       "    <tr>\n",
       "      <th>0</th>\n",
       "      <td>A19A</td>\n",
       "      <td>2819896</td>\n",
       "      <td>19</td>\n",
       "    </tr>\n",
       "    <tr>\n",
       "      <th>1</th>\n",
       "      <td>A19C</td>\n",
       "      <td>47</td>\n",
       "      <td>19</td>\n",
       "    </tr>\n",
       "    <tr>\n",
       "      <th>2</th>\n",
       "      <td>A19D</td>\n",
       "      <td>217</td>\n",
       "      <td>19</td>\n",
       "    </tr>\n",
       "    <tr>\n",
       "      <th>3</th>\n",
       "      <td>A19E</td>\n",
       "      <td>277</td>\n",
       "      <td>19</td>\n",
       "    </tr>\n",
       "    <tr>\n",
       "      <th>4</th>\n",
       "      <td>A19F</td>\n",
       "      <td>864</td>\n",
       "      <td>19</td>\n",
       "    </tr>\n",
       "  </tbody>\n",
       "</table>\n",
       "</div>"
      ],
      "text/plain": [
       "  Mutation    Count  Position\n",
       "0     A19A  2819896        19\n",
       "1     A19C       47        19\n",
       "2     A19D      217        19\n",
       "3     A19E      277        19\n",
       "4     A19F      864        19"
      ]
     },
     "execution_count": 11,
     "metadata": {},
     "output_type": "execute_result"
    }
   ],
   "source": [
    "cf_0.head(5)"
   ]
  },
  {
   "cell_type": "markdown",
   "id": "70358b73-2b51-46e3-81ea-d6cc25516573",
   "metadata": {},
   "source": [
    "## 提取突变氨基酸"
   ]
  },
  {
   "cell_type": "code",
   "execution_count": 12,
   "id": "a81d8924-41eb-45a2-8d8a-9de4eb836a27",
   "metadata": {},
   "outputs": [],
   "source": [
    "cf_0['Mutant AA'] =cf_0['Mutation'].str[-1]"
   ]
  },
  {
   "cell_type": "code",
   "execution_count": 13,
   "id": "0274feee-d47e-4607-902a-2a966dd0c215",
   "metadata": {},
   "outputs": [],
   "source": [
    "cf_2['Mutant AA'] =cf_2['Mutation'].str[-1]"
   ]
  },
  {
   "cell_type": "code",
   "execution_count": 14,
   "id": "25a1af00-6715-43cc-941d-b0b793695caa",
   "metadata": {},
   "outputs": [],
   "source": [
    "cf_3['Mutant AA'] =cf_3['Mutation'].str[-1]"
   ]
  },
  {
   "cell_type": "code",
   "execution_count": 15,
   "id": "8c8441c7-ee3f-4e5a-abcd-4ec6b25a20f4",
   "metadata": {},
   "outputs": [
    {
     "data": {
      "text/html": [
       "<div>\n",
       "<style scoped>\n",
       "    .dataframe tbody tr th:only-of-type {\n",
       "        vertical-align: middle;\n",
       "    }\n",
       "\n",
       "    .dataframe tbody tr th {\n",
       "        vertical-align: top;\n",
       "    }\n",
       "\n",
       "    .dataframe thead th {\n",
       "        text-align: right;\n",
       "    }\n",
       "</style>\n",
       "<table border=\"1\" class=\"dataframe\">\n",
       "  <thead>\n",
       "    <tr style=\"text-align: right;\">\n",
       "      <th></th>\n",
       "      <th>Mutation</th>\n",
       "      <th>Count</th>\n",
       "      <th>Position</th>\n",
       "      <th>Mutant AA</th>\n",
       "    </tr>\n",
       "  </thead>\n",
       "  <tbody>\n",
       "    <tr>\n",
       "      <th>0</th>\n",
       "      <td>A19A</td>\n",
       "      <td>2819896</td>\n",
       "      <td>19</td>\n",
       "      <td>A</td>\n",
       "    </tr>\n",
       "    <tr>\n",
       "      <th>1</th>\n",
       "      <td>A19C</td>\n",
       "      <td>47</td>\n",
       "      <td>19</td>\n",
       "      <td>C</td>\n",
       "    </tr>\n",
       "    <tr>\n",
       "      <th>2</th>\n",
       "      <td>A19D</td>\n",
       "      <td>217</td>\n",
       "      <td>19</td>\n",
       "      <td>D</td>\n",
       "    </tr>\n",
       "    <tr>\n",
       "      <th>3</th>\n",
       "      <td>A19E</td>\n",
       "      <td>277</td>\n",
       "      <td>19</td>\n",
       "      <td>E</td>\n",
       "    </tr>\n",
       "    <tr>\n",
       "      <th>4</th>\n",
       "      <td>A19F</td>\n",
       "      <td>864</td>\n",
       "      <td>19</td>\n",
       "      <td>F</td>\n",
       "    </tr>\n",
       "  </tbody>\n",
       "</table>\n",
       "</div>"
      ],
      "text/plain": [
       "  Mutation    Count  Position Mutant AA\n",
       "0     A19A  2819896        19         A\n",
       "1     A19C       47        19         C\n",
       "2     A19D      217        19         D\n",
       "3     A19E      277        19         E\n",
       "4     A19F      864        19         F"
      ]
     },
     "execution_count": 15,
     "metadata": {},
     "output_type": "execute_result"
    }
   ],
   "source": [
    "cf_0.head(5)"
   ]
  },
  {
   "cell_type": "markdown",
   "id": "5b73531f-6698-4617-a999-af7a33027066",
   "metadata": {},
   "source": [
    "## 提取野生型氨基酸"
   ]
  },
  {
   "cell_type": "code",
   "execution_count": 20,
   "id": "7cc4e676-f994-481a-aced-ac6b21f784f2",
   "metadata": {},
   "outputs": [],
   "source": [
    "cf_0['WT AA'] =cf_0['Mutation'].str[0]"
   ]
  },
  {
   "cell_type": "code",
   "execution_count": 21,
   "id": "83db76de-560a-4fca-b305-bc152a14ed80",
   "metadata": {},
   "outputs": [],
   "source": [
    "cf_2['WT AA'] =cf_2['Mutation'].str[0]"
   ]
  },
  {
   "cell_type": "code",
   "execution_count": 22,
   "id": "8171f1fb-f2aa-4503-8752-07f1030b8b72",
   "metadata": {},
   "outputs": [],
   "source": [
    "cf_3['WT AA'] =cf_3['Mutation'].str[0]"
   ]
  },
  {
   "cell_type": "code",
   "execution_count": 23,
   "id": "8ebbad22-49fc-4bf1-8256-59522270211c",
   "metadata": {},
   "outputs": [
    {
     "data": {
      "text/html": [
       "<div>\n",
       "<style scoped>\n",
       "    .dataframe tbody tr th:only-of-type {\n",
       "        vertical-align: middle;\n",
       "    }\n",
       "\n",
       "    .dataframe tbody tr th {\n",
       "        vertical-align: top;\n",
       "    }\n",
       "\n",
       "    .dataframe thead th {\n",
       "        text-align: right;\n",
       "    }\n",
       "</style>\n",
       "<table border=\"1\" class=\"dataframe\">\n",
       "  <thead>\n",
       "    <tr style=\"text-align: right;\">\n",
       "      <th></th>\n",
       "      <th>Mutation</th>\n",
       "      <th>Count</th>\n",
       "      <th>Position</th>\n",
       "      <th>Mutant AA</th>\n",
       "      <th>WT AA</th>\n",
       "    </tr>\n",
       "  </thead>\n",
       "  <tbody>\n",
       "    <tr>\n",
       "      <th>0</th>\n",
       "      <td>A19A</td>\n",
       "      <td>2819896</td>\n",
       "      <td>19</td>\n",
       "      <td>A</td>\n",
       "      <td>A</td>\n",
       "    </tr>\n",
       "    <tr>\n",
       "      <th>1</th>\n",
       "      <td>A19C</td>\n",
       "      <td>47</td>\n",
       "      <td>19</td>\n",
       "      <td>C</td>\n",
       "      <td>A</td>\n",
       "    </tr>\n",
       "    <tr>\n",
       "      <th>2</th>\n",
       "      <td>A19D</td>\n",
       "      <td>217</td>\n",
       "      <td>19</td>\n",
       "      <td>D</td>\n",
       "      <td>A</td>\n",
       "    </tr>\n",
       "    <tr>\n",
       "      <th>3</th>\n",
       "      <td>A19E</td>\n",
       "      <td>277</td>\n",
       "      <td>19</td>\n",
       "      <td>E</td>\n",
       "      <td>A</td>\n",
       "    </tr>\n",
       "    <tr>\n",
       "      <th>4</th>\n",
       "      <td>A19F</td>\n",
       "      <td>864</td>\n",
       "      <td>19</td>\n",
       "      <td>F</td>\n",
       "      <td>A</td>\n",
       "    </tr>\n",
       "  </tbody>\n",
       "</table>\n",
       "</div>"
      ],
      "text/plain": [
       "  Mutation    Count  Position Mutant AA WT AA\n",
       "0     A19A  2819896        19         A     A\n",
       "1     A19C       47        19         C     A\n",
       "2     A19D      217        19         D     A\n",
       "3     A19E      277        19         E     A\n",
       "4     A19F      864        19         F     A"
      ]
     },
     "execution_count": 23,
     "metadata": {},
     "output_type": "execute_result"
    }
   ],
   "source": [
    "cf_0.head(5)"
   ]
  },
  {
   "cell_type": "markdown",
   "id": "e84689d8-2a5d-4410-bce1-4ba1fa0d7978",
   "metadata": {},
   "source": [
    "## 计算各个位点的总Count"
   ]
  },
  {
   "cell_type": "code",
   "execution_count": 24,
   "id": "104e54e4-e1fa-42af-a482-feb64b18d0eb",
   "metadata": {},
   "outputs": [],
   "source": [
    "cf_0['Total Count'] = cf_0.groupby('Position')['Count'].transform('sum')"
   ]
  },
  {
   "cell_type": "code",
   "execution_count": 25,
   "id": "7bd02c64-c79b-4516-9cdc-2851d731ffe3",
   "metadata": {},
   "outputs": [],
   "source": [
    "cf_2['Total Count'] = cf_2.groupby('Position')['Count'].transform('sum')"
   ]
  },
  {
   "cell_type": "code",
   "execution_count": 26,
   "id": "1d16d99b-3808-4f59-84ee-d14dfec73073",
   "metadata": {},
   "outputs": [],
   "source": [
    "cf_3['Total Count'] = cf_3.groupby('Position')['Count'].transform('sum')"
   ]
  },
  {
   "cell_type": "code",
   "execution_count": 27,
   "id": "c057eb93-6321-4f32-8f0a-b18a112bc6a4",
   "metadata": {},
   "outputs": [
    {
     "data": {
      "text/html": [
       "<div>\n",
       "<style scoped>\n",
       "    .dataframe tbody tr th:only-of-type {\n",
       "        vertical-align: middle;\n",
       "    }\n",
       "\n",
       "    .dataframe tbody tr th {\n",
       "        vertical-align: top;\n",
       "    }\n",
       "\n",
       "    .dataframe thead th {\n",
       "        text-align: right;\n",
       "    }\n",
       "</style>\n",
       "<table border=\"1\" class=\"dataframe\">\n",
       "  <thead>\n",
       "    <tr style=\"text-align: right;\">\n",
       "      <th></th>\n",
       "      <th>Mutation</th>\n",
       "      <th>Count</th>\n",
       "      <th>Position</th>\n",
       "      <th>Mutant AA</th>\n",
       "      <th>WT AA</th>\n",
       "      <th>Total Count</th>\n",
       "    </tr>\n",
       "  </thead>\n",
       "  <tbody>\n",
       "    <tr>\n",
       "      <th>0</th>\n",
       "      <td>A19A</td>\n",
       "      <td>2819896</td>\n",
       "      <td>19</td>\n",
       "      <td>A</td>\n",
       "      <td>A</td>\n",
       "      <td>2828717</td>\n",
       "    </tr>\n",
       "    <tr>\n",
       "      <th>1</th>\n",
       "      <td>A19C</td>\n",
       "      <td>47</td>\n",
       "      <td>19</td>\n",
       "      <td>C</td>\n",
       "      <td>A</td>\n",
       "      <td>2828717</td>\n",
       "    </tr>\n",
       "    <tr>\n",
       "      <th>2</th>\n",
       "      <td>A19D</td>\n",
       "      <td>217</td>\n",
       "      <td>19</td>\n",
       "      <td>D</td>\n",
       "      <td>A</td>\n",
       "      <td>2828717</td>\n",
       "    </tr>\n",
       "    <tr>\n",
       "      <th>3</th>\n",
       "      <td>A19E</td>\n",
       "      <td>277</td>\n",
       "      <td>19</td>\n",
       "      <td>E</td>\n",
       "      <td>A</td>\n",
       "      <td>2828717</td>\n",
       "    </tr>\n",
       "    <tr>\n",
       "      <th>4</th>\n",
       "      <td>A19F</td>\n",
       "      <td>864</td>\n",
       "      <td>19</td>\n",
       "      <td>F</td>\n",
       "      <td>A</td>\n",
       "      <td>2828717</td>\n",
       "    </tr>\n",
       "  </tbody>\n",
       "</table>\n",
       "</div>"
      ],
      "text/plain": [
       "  Mutation    Count  Position Mutant AA WT AA  Total Count\n",
       "0     A19A  2819896        19         A     A      2828717\n",
       "1     A19C       47        19         C     A      2828717\n",
       "2     A19D      217        19         D     A      2828717\n",
       "3     A19E      277        19         E     A      2828717\n",
       "4     A19F      864        19         F     A      2828717"
      ]
     },
     "execution_count": 27,
     "metadata": {},
     "output_type": "execute_result"
    }
   ],
   "source": [
    "cf_0.head(5)"
   ]
  },
  {
   "cell_type": "markdown",
   "id": "eb05e249-321c-44c5-bc76-737dfaf598a1",
   "metadata": {},
   "source": [
    "## 计算各个位点的Count占比"
   ]
  },
  {
   "cell_type": "code",
   "execution_count": 28,
   "id": "d969cb56-50e3-4390-b138-044dc5a924ad",
   "metadata": {},
   "outputs": [],
   "source": [
    "cf_0['Count_percent'] = cf_0['Count']/cf_0['Total Count']"
   ]
  },
  {
   "cell_type": "code",
   "execution_count": 29,
   "id": "732840f5-abc8-4c6a-9a91-11b0cf7b74fb",
   "metadata": {},
   "outputs": [],
   "source": [
    "cf_2['Count_percent'] = cf_2['Count']/cf_2['Total Count']"
   ]
  },
  {
   "cell_type": "code",
   "execution_count": 54,
   "id": "6275b94c-1f46-4530-af73-4a1ffae71628",
   "metadata": {},
   "outputs": [],
   "source": [
    "cf_3['Count_percent'] = cf_3['Count']/cf_3['Total Count']"
   ]
  },
  {
   "cell_type": "code",
   "execution_count": 30,
   "id": "2b09e143-5368-4885-ae20-c3563150b019",
   "metadata": {},
   "outputs": [
    {
     "data": {
      "text/html": [
       "<div>\n",
       "<style scoped>\n",
       "    .dataframe tbody tr th:only-of-type {\n",
       "        vertical-align: middle;\n",
       "    }\n",
       "\n",
       "    .dataframe tbody tr th {\n",
       "        vertical-align: top;\n",
       "    }\n",
       "\n",
       "    .dataframe thead th {\n",
       "        text-align: right;\n",
       "    }\n",
       "</style>\n",
       "<table border=\"1\" class=\"dataframe\">\n",
       "  <thead>\n",
       "    <tr style=\"text-align: right;\">\n",
       "      <th></th>\n",
       "      <th>Mutation</th>\n",
       "      <th>Count</th>\n",
       "      <th>Position</th>\n",
       "      <th>Mutant AA</th>\n",
       "      <th>WT AA</th>\n",
       "      <th>Total Count</th>\n",
       "      <th>Count_percent</th>\n",
       "    </tr>\n",
       "  </thead>\n",
       "  <tbody>\n",
       "    <tr>\n",
       "      <th>0</th>\n",
       "      <td>A19A</td>\n",
       "      <td>2819896</td>\n",
       "      <td>19</td>\n",
       "      <td>A</td>\n",
       "      <td>A</td>\n",
       "      <td>2828717</td>\n",
       "      <td>0.996882</td>\n",
       "    </tr>\n",
       "    <tr>\n",
       "      <th>1</th>\n",
       "      <td>A19C</td>\n",
       "      <td>47</td>\n",
       "      <td>19</td>\n",
       "      <td>C</td>\n",
       "      <td>A</td>\n",
       "      <td>2828717</td>\n",
       "      <td>0.000017</td>\n",
       "    </tr>\n",
       "    <tr>\n",
       "      <th>2</th>\n",
       "      <td>A19D</td>\n",
       "      <td>217</td>\n",
       "      <td>19</td>\n",
       "      <td>D</td>\n",
       "      <td>A</td>\n",
       "      <td>2828717</td>\n",
       "      <td>0.000077</td>\n",
       "    </tr>\n",
       "    <tr>\n",
       "      <th>3</th>\n",
       "      <td>A19E</td>\n",
       "      <td>277</td>\n",
       "      <td>19</td>\n",
       "      <td>E</td>\n",
       "      <td>A</td>\n",
       "      <td>2828717</td>\n",
       "      <td>0.000098</td>\n",
       "    </tr>\n",
       "    <tr>\n",
       "      <th>4</th>\n",
       "      <td>A19F</td>\n",
       "      <td>864</td>\n",
       "      <td>19</td>\n",
       "      <td>F</td>\n",
       "      <td>A</td>\n",
       "      <td>2828717</td>\n",
       "      <td>0.000305</td>\n",
       "    </tr>\n",
       "  </tbody>\n",
       "</table>\n",
       "</div>"
      ],
      "text/plain": [
       "  Mutation    Count  Position Mutant AA WT AA  Total Count  Count_percent\n",
       "0     A19A  2819896        19         A     A      2828717       0.996882\n",
       "1     A19C       47        19         C     A      2828717       0.000017\n",
       "2     A19D      217        19         D     A      2828717       0.000077\n",
       "3     A19E      277        19         E     A      2828717       0.000098\n",
       "4     A19F      864        19         F     A      2828717       0.000305"
      ]
     },
     "execution_count": 30,
     "metadata": {},
     "output_type": "execute_result"
    }
   ],
   "source": [
    "cf_0.head(5)"
   ]
  },
  {
   "cell_type": "markdown",
   "id": "68972d32-0224-456f-bc96-c9b9824d82ce",
   "metadata": {},
   "source": [
    "## 合并表格"
   ]
  },
  {
   "cell_type": "markdown",
   "id": "58d98740-b5e5-4f4e-bd1d-1d5455498ba0",
   "metadata": {},
   "source": [
    "### 将表格按照时间点合并"
   ]
  },
  {
   "cell_type": "markdown",
   "id": "3af6ec57-e9c2-4cb3-a413-d01f6d3444fb",
   "metadata": {},
   "source": [
    "#### 将0h和2h表格合并，以2h表格内元素为基准，并新增 $ log_2 Enrichment $ 列。"
   ]
  },
  {
   "cell_type": "code",
   "execution_count": 35,
   "id": "c259c4fa-9c70-4e81-87a1-2d3ff9365024",
   "metadata": {},
   "outputs": [],
   "source": [
    "cf_2_vs_cf_0 = pd.merge(cf_2, cf_0, on = ['Mutation', 'Position', 'Mutant AA', 'WT AA'])"
   ]
  },
  {
   "cell_type": "code",
   "execution_count": 36,
   "id": "ac28d511-18c2-4815-9943-7de15fe3b3ca",
   "metadata": {},
   "outputs": [
    {
     "name": "stdout",
     "output_type": "stream",
     "text": [
      "<class 'pandas.core.frame.DataFrame'>\n",
      "RangeIndex: 10336 entries, 0 to 10335\n",
      "Data columns (total 10 columns):\n",
      " #   Column           Non-Null Count  Dtype  \n",
      "---  ------           --------------  -----  \n",
      " 0   Mutation         10336 non-null  object \n",
      " 1   Count_x          10336 non-null  int64  \n",
      " 2   Position         10336 non-null  int32  \n",
      " 3   Mutant AA        10336 non-null  object \n",
      " 4   WT AA            10336 non-null  object \n",
      " 5   Total Count_x    10336 non-null  int64  \n",
      " 6   Count_percent_x  10336 non-null  float64\n",
      " 7   Count_y          10336 non-null  int64  \n",
      " 8   Total Count_y    10336 non-null  int64  \n",
      " 9   Count_percent_y  10336 non-null  float64\n",
      "dtypes: float64(2), int32(1), int64(4), object(3)\n",
      "memory usage: 767.2+ KB\n"
     ]
    }
   ],
   "source": [
    "cf_2_vs_cf_0.info()"
   ]
  },
  {
   "cell_type": "markdown",
   "id": "83f75b33-62fe-41ba-ba8c-b5545250b4e8",
   "metadata": {},
   "source": [
    "聚合后的表格共有10336条数据，但是部分列名重复，且需要将列名中的'_x''_y'修改为对应的时间点。"
   ]
  },
  {
   "cell_type": "code",
   "execution_count": 41,
   "id": "ac790e15-5160-4e5a-b8c8-b6a1b783718c",
   "metadata": {},
   "outputs": [],
   "source": [
    "cf_2_vs_cf_0 = cf_2_vs_cf_0[[\"Mutation\", \"Position\", \"Mutant AA\", \"WT AA\", \"Count_x\", \"Total Count_x\", \"Count_percent_x\", \"Count_y\", \"Total Count_y\", \"Count_percent_y\"]]"
   ]
  },
  {
   "cell_type": "code",
   "execution_count": 42,
   "id": "3bd5ca86-ce6b-4408-a64f-86625a6e1627",
   "metadata": {},
   "outputs": [],
   "source": [
    "cf_2_vs_cf_0.rename(columns=lambda x: x.replace(\"_x\", \"_2h\").replace(\"_y\", \"_0h\"), inplace=True)"
   ]
  },
  {
   "cell_type": "code",
   "execution_count": 43,
   "id": "b3e846ab-24dc-4baa-89dc-34b9d9b6cd20",
   "metadata": {},
   "outputs": [
    {
     "data": {
      "text/html": [
       "<div>\n",
       "<style scoped>\n",
       "    .dataframe tbody tr th:only-of-type {\n",
       "        vertical-align: middle;\n",
       "    }\n",
       "\n",
       "    .dataframe tbody tr th {\n",
       "        vertical-align: top;\n",
       "    }\n",
       "\n",
       "    .dataframe thead th {\n",
       "        text-align: right;\n",
       "    }\n",
       "</style>\n",
       "<table border=\"1\" class=\"dataframe\">\n",
       "  <thead>\n",
       "    <tr style=\"text-align: right;\">\n",
       "      <th></th>\n",
       "      <th>Mutation</th>\n",
       "      <th>Position</th>\n",
       "      <th>Mutant AA</th>\n",
       "      <th>WT AA</th>\n",
       "      <th>Count_2h</th>\n",
       "      <th>Total Count_2h</th>\n",
       "      <th>Count_percent_2h</th>\n",
       "      <th>Count_0h</th>\n",
       "      <th>Total Count_0h</th>\n",
       "      <th>Count_percent_0h</th>\n",
       "    </tr>\n",
       "  </thead>\n",
       "  <tbody>\n",
       "    <tr>\n",
       "      <th>0</th>\n",
       "      <td>A19A</td>\n",
       "      <td>19</td>\n",
       "      <td>A</td>\n",
       "      <td>A</td>\n",
       "      <td>1393749</td>\n",
       "      <td>1397156</td>\n",
       "      <td>0.997561</td>\n",
       "      <td>2819896</td>\n",
       "      <td>2828717</td>\n",
       "      <td>0.996882</td>\n",
       "    </tr>\n",
       "    <tr>\n",
       "      <th>1</th>\n",
       "      <td>A19D</td>\n",
       "      <td>19</td>\n",
       "      <td>D</td>\n",
       "      <td>A</td>\n",
       "      <td>69</td>\n",
       "      <td>1397156</td>\n",
       "      <td>0.000049</td>\n",
       "      <td>217</td>\n",
       "      <td>2828717</td>\n",
       "      <td>0.000077</td>\n",
       "    </tr>\n",
       "    <tr>\n",
       "      <th>2</th>\n",
       "      <td>A19E</td>\n",
       "      <td>19</td>\n",
       "      <td>E</td>\n",
       "      <td>A</td>\n",
       "      <td>102</td>\n",
       "      <td>1397156</td>\n",
       "      <td>0.000073</td>\n",
       "      <td>277</td>\n",
       "      <td>2828717</td>\n",
       "      <td>0.000098</td>\n",
       "    </tr>\n",
       "    <tr>\n",
       "      <th>3</th>\n",
       "      <td>A19F</td>\n",
       "      <td>19</td>\n",
       "      <td>F</td>\n",
       "      <td>A</td>\n",
       "      <td>735</td>\n",
       "      <td>1397156</td>\n",
       "      <td>0.000526</td>\n",
       "      <td>864</td>\n",
       "      <td>2828717</td>\n",
       "      <td>0.000305</td>\n",
       "    </tr>\n",
       "    <tr>\n",
       "      <th>4</th>\n",
       "      <td>A19G</td>\n",
       "      <td>19</td>\n",
       "      <td>G</td>\n",
       "      <td>A</td>\n",
       "      <td>127</td>\n",
       "      <td>1397156</td>\n",
       "      <td>0.000091</td>\n",
       "      <td>330</td>\n",
       "      <td>2828717</td>\n",
       "      <td>0.000117</td>\n",
       "    </tr>\n",
       "  </tbody>\n",
       "</table>\n",
       "</div>"
      ],
      "text/plain": [
       "  Mutation  Position Mutant AA WT AA  Count_2h  Total Count_2h  \\\n",
       "0     A19A        19         A     A   1393749         1397156   \n",
       "1     A19D        19         D     A        69         1397156   \n",
       "2     A19E        19         E     A       102         1397156   \n",
       "3     A19F        19         F     A       735         1397156   \n",
       "4     A19G        19         G     A       127         1397156   \n",
       "\n",
       "   Count_percent_2h  Count_0h  Total Count_0h  Count_percent_0h  \n",
       "0          0.997561   2819896         2828717          0.996882  \n",
       "1          0.000049       217         2828717          0.000077  \n",
       "2          0.000073       277         2828717          0.000098  \n",
       "3          0.000526       864         2828717          0.000305  \n",
       "4          0.000091       330         2828717          0.000117  "
      ]
     },
     "execution_count": 43,
     "metadata": {},
     "output_type": "execute_result"
    }
   ],
   "source": [
    "cf_2_vs_cf_0.head(5)"
   ]
  },
  {
   "cell_type": "markdown",
   "id": "fa99c08b-e88f-40bd-9e39-0d7c8e54d506",
   "metadata": {},
   "source": [
    "##### log2_Enrichment = log2_Enrichment(Count_percent_2h/Count_percent_0h)"
   ]
  },
  {
   "cell_type": "code",
   "execution_count": 49,
   "id": "f6f54e05-2e71-4077-8677-3bdf490ba617",
   "metadata": {},
   "outputs": [],
   "source": [
    "cf_2_vs_cf_0['Log_2 Enrichment'] = np.log2(cf_2_vs_cf_0['Count_percent_2h']/cf_2_vs_cf_0['Count_percent_0h'])"
   ]
  },
  {
   "cell_type": "code",
   "execution_count": 50,
   "id": "7e1efe3d-b3b8-4178-966e-60d088042c9c",
   "metadata": {},
   "outputs": [
    {
     "data": {
      "text/html": [
       "<div>\n",
       "<style scoped>\n",
       "    .dataframe tbody tr th:only-of-type {\n",
       "        vertical-align: middle;\n",
       "    }\n",
       "\n",
       "    .dataframe tbody tr th {\n",
       "        vertical-align: top;\n",
       "    }\n",
       "\n",
       "    .dataframe thead th {\n",
       "        text-align: right;\n",
       "    }\n",
       "</style>\n",
       "<table border=\"1\" class=\"dataframe\">\n",
       "  <thead>\n",
       "    <tr style=\"text-align: right;\">\n",
       "      <th></th>\n",
       "      <th>Mutation</th>\n",
       "      <th>Position</th>\n",
       "      <th>Mutant AA</th>\n",
       "      <th>WT AA</th>\n",
       "      <th>Count_2h</th>\n",
       "      <th>Total Count_2h</th>\n",
       "      <th>Count_percent_2h</th>\n",
       "      <th>Count_0h</th>\n",
       "      <th>Total Count_0h</th>\n",
       "      <th>Count_percent_0h</th>\n",
       "      <th>Log_2 Enrichment</th>\n",
       "    </tr>\n",
       "  </thead>\n",
       "  <tbody>\n",
       "    <tr>\n",
       "      <th>0</th>\n",
       "      <td>A19A</td>\n",
       "      <td>19</td>\n",
       "      <td>A</td>\n",
       "      <td>A</td>\n",
       "      <td>1393749</td>\n",
       "      <td>1397156</td>\n",
       "      <td>0.997561</td>\n",
       "      <td>2819896</td>\n",
       "      <td>2828717</td>\n",
       "      <td>0.996882</td>\n",
       "      <td>0.000984</td>\n",
       "    </tr>\n",
       "    <tr>\n",
       "      <th>1</th>\n",
       "      <td>A19D</td>\n",
       "      <td>19</td>\n",
       "      <td>D</td>\n",
       "      <td>A</td>\n",
       "      <td>69</td>\n",
       "      <td>1397156</td>\n",
       "      <td>0.000049</td>\n",
       "      <td>217</td>\n",
       "      <td>2828717</td>\n",
       "      <td>0.000077</td>\n",
       "      <td>-0.635372</td>\n",
       "    </tr>\n",
       "    <tr>\n",
       "      <th>2</th>\n",
       "      <td>A19E</td>\n",
       "      <td>19</td>\n",
       "      <td>E</td>\n",
       "      <td>A</td>\n",
       "      <td>102</td>\n",
       "      <td>1397156</td>\n",
       "      <td>0.000073</td>\n",
       "      <td>277</td>\n",
       "      <td>2828717</td>\n",
       "      <td>0.000098</td>\n",
       "      <td>-0.423662</td>\n",
       "    </tr>\n",
       "    <tr>\n",
       "      <th>3</th>\n",
       "      <td>A19F</td>\n",
       "      <td>19</td>\n",
       "      <td>F</td>\n",
       "      <td>A</td>\n",
       "      <td>735</td>\n",
       "      <td>1397156</td>\n",
       "      <td>0.000526</td>\n",
       "      <td>864</td>\n",
       "      <td>2828717</td>\n",
       "      <td>0.000305</td>\n",
       "      <td>0.784368</td>\n",
       "    </tr>\n",
       "    <tr>\n",
       "      <th>4</th>\n",
       "      <td>A19G</td>\n",
       "      <td>19</td>\n",
       "      <td>G</td>\n",
       "      <td>A</td>\n",
       "      <td>127</td>\n",
       "      <td>1397156</td>\n",
       "      <td>0.000091</td>\n",
       "      <td>330</td>\n",
       "      <td>2828717</td>\n",
       "      <td>0.000117</td>\n",
       "      <td>-0.359983</td>\n",
       "    </tr>\n",
       "  </tbody>\n",
       "</table>\n",
       "</div>"
      ],
      "text/plain": [
       "  Mutation  Position Mutant AA WT AA  Count_2h  Total Count_2h  \\\n",
       "0     A19A        19         A     A   1393749         1397156   \n",
       "1     A19D        19         D     A        69         1397156   \n",
       "2     A19E        19         E     A       102         1397156   \n",
       "3     A19F        19         F     A       735         1397156   \n",
       "4     A19G        19         G     A       127         1397156   \n",
       "\n",
       "   Count_percent_2h  Count_0h  Total Count_0h  Count_percent_0h  \\\n",
       "0          0.997561   2819896         2828717          0.996882   \n",
       "1          0.000049       217         2828717          0.000077   \n",
       "2          0.000073       277         2828717          0.000098   \n",
       "3          0.000526       864         2828717          0.000305   \n",
       "4          0.000091       330         2828717          0.000117   \n",
       "\n",
       "   Log_2 Enrichment  \n",
       "0          0.000984  \n",
       "1         -0.635372  \n",
       "2         -0.423662  \n",
       "3          0.784368  \n",
       "4         -0.359983  "
      ]
     },
     "execution_count": 50,
     "metadata": {},
     "output_type": "execute_result"
    }
   ],
   "source": [
    "cf_2_vs_cf_0.head(5)"
   ]
  },
  {
   "cell_type": "markdown",
   "id": "af811d3c-c3ad-4aba-9dc2-4004b9422e6d",
   "metadata": {},
   "source": [
    "#### 将0h和3h表格合并，以2h表格内元素为基准，并新增 $ log_2 Enrichment $ 列。"
   ]
  },
  {
   "cell_type": "code",
   "execution_count": 55,
   "id": "99e442be-1d9d-4281-86a4-c1330d884f75",
   "metadata": {},
   "outputs": [
    {
     "data": {
      "text/html": [
       "<div>\n",
       "<style scoped>\n",
       "    .dataframe tbody tr th:only-of-type {\n",
       "        vertical-align: middle;\n",
       "    }\n",
       "\n",
       "    .dataframe tbody tr th {\n",
       "        vertical-align: top;\n",
       "    }\n",
       "\n",
       "    .dataframe thead th {\n",
       "        text-align: right;\n",
       "    }\n",
       "</style>\n",
       "<table border=\"1\" class=\"dataframe\">\n",
       "  <thead>\n",
       "    <tr style=\"text-align: right;\">\n",
       "      <th></th>\n",
       "      <th>Mutation</th>\n",
       "      <th>Position</th>\n",
       "      <th>Mutant AA</th>\n",
       "      <th>WT AA</th>\n",
       "      <th>Count_3h</th>\n",
       "      <th>Total Count_3h</th>\n",
       "      <th>Count_percent_3h</th>\n",
       "      <th>Count_0h</th>\n",
       "      <th>Total Count_0h</th>\n",
       "      <th>Count_percent_0h</th>\n",
       "      <th>Log_2 Enrichment</th>\n",
       "    </tr>\n",
       "  </thead>\n",
       "  <tbody>\n",
       "    <tr>\n",
       "      <th>0</th>\n",
       "      <td>A19A</td>\n",
       "      <td>19</td>\n",
       "      <td>A</td>\n",
       "      <td>A</td>\n",
       "      <td>828480</td>\n",
       "      <td>830057</td>\n",
       "      <td>0.998100</td>\n",
       "      <td>2819896</td>\n",
       "      <td>2828717</td>\n",
       "      <td>0.996882</td>\n",
       "      <td>0.001762</td>\n",
       "    </tr>\n",
       "    <tr>\n",
       "      <th>1</th>\n",
       "      <td>A19D</td>\n",
       "      <td>19</td>\n",
       "      <td>D</td>\n",
       "      <td>A</td>\n",
       "      <td>22</td>\n",
       "      <td>830057</td>\n",
       "      <td>0.000027</td>\n",
       "      <td>217</td>\n",
       "      <td>2828717</td>\n",
       "      <td>0.000077</td>\n",
       "      <td>-1.533254</td>\n",
       "    </tr>\n",
       "    <tr>\n",
       "      <th>2</th>\n",
       "      <td>A19E</td>\n",
       "      <td>19</td>\n",
       "      <td>E</td>\n",
       "      <td>A</td>\n",
       "      <td>50</td>\n",
       "      <td>830057</td>\n",
       "      <td>0.000060</td>\n",
       "      <td>277</td>\n",
       "      <td>2828717</td>\n",
       "      <td>0.000098</td>\n",
       "      <td>-0.701020</td>\n",
       "    </tr>\n",
       "    <tr>\n",
       "      <th>3</th>\n",
       "      <td>A19F</td>\n",
       "      <td>19</td>\n",
       "      <td>F</td>\n",
       "      <td>A</td>\n",
       "      <td>117</td>\n",
       "      <td>830057</td>\n",
       "      <td>0.000141</td>\n",
       "      <td>864</td>\n",
       "      <td>2828717</td>\n",
       "      <td>0.000305</td>\n",
       "      <td>-1.115657</td>\n",
       "    </tr>\n",
       "    <tr>\n",
       "      <th>4</th>\n",
       "      <td>A19G</td>\n",
       "      <td>19</td>\n",
       "      <td>G</td>\n",
       "      <td>A</td>\n",
       "      <td>114</td>\n",
       "      <td>830057</td>\n",
       "      <td>0.000137</td>\n",
       "      <td>330</td>\n",
       "      <td>2828717</td>\n",
       "      <td>0.000117</td>\n",
       "      <td>0.235433</td>\n",
       "    </tr>\n",
       "  </tbody>\n",
       "</table>\n",
       "</div>"
      ],
      "text/plain": [
       "  Mutation  Position Mutant AA WT AA  Count_3h  Total Count_3h  \\\n",
       "0     A19A        19         A     A    828480          830057   \n",
       "1     A19D        19         D     A        22          830057   \n",
       "2     A19E        19         E     A        50          830057   \n",
       "3     A19F        19         F     A       117          830057   \n",
       "4     A19G        19         G     A       114          830057   \n",
       "\n",
       "   Count_percent_3h  Count_0h  Total Count_0h  Count_percent_0h  \\\n",
       "0          0.998100   2819896         2828717          0.996882   \n",
       "1          0.000027       217         2828717          0.000077   \n",
       "2          0.000060       277         2828717          0.000098   \n",
       "3          0.000141       864         2828717          0.000305   \n",
       "4          0.000137       330         2828717          0.000117   \n",
       "\n",
       "   Log_2 Enrichment  \n",
       "0          0.001762  \n",
       "1         -1.533254  \n",
       "2         -0.701020  \n",
       "3         -1.115657  \n",
       "4          0.235433  "
      ]
     },
     "execution_count": 55,
     "metadata": {},
     "output_type": "execute_result"
    }
   ],
   "source": [
    "cf_3_vs_cf_0 = pd.merge(cf_3, cf_0, on = ['Mutation', 'Position', 'Mutant AA', 'WT AA'])\n",
    "cf_3_vs_cf_0 = cf_3_vs_cf_0[[\"Mutation\", \"Position\", \"Mutant AA\", \"WT AA\", \"Count_x\", \"Total Count_x\", \"Count_percent_x\", \"Count_y\", \"Total Count_y\", \"Count_percent_y\"]]\n",
    "cf_3_vs_cf_0.rename(columns=lambda x: x.replace(\"_x\", \"_3h\").replace(\"_y\", \"_0h\"), inplace=True)\n",
    "cf_3_vs_cf_0['Log_2 Enrichment'] = np.log2(cf_3_vs_cf_0['Count_percent_3h']/cf_2_vs_cf_0['Count_percent_0h'])\n",
    "cf_3_vs_cf_0.head(5)"
   ]
  },
  {
   "cell_type": "markdown",
   "id": "2db72e46-2f5f-4a56-98ed-352e319df998",
   "metadata": {},
   "source": [
    "#### 将2h和3h表格合并，以2h表格内元素为基准，并新增 $ log_2 Enrichment $ 列。"
   ]
  },
  {
   "cell_type": "code",
   "execution_count": 56,
   "id": "80e990a1-ac75-4068-82bc-e7edb4063d4f",
   "metadata": {},
   "outputs": [
    {
     "data": {
      "text/html": [
       "<div>\n",
       "<style scoped>\n",
       "    .dataframe tbody tr th:only-of-type {\n",
       "        vertical-align: middle;\n",
       "    }\n",
       "\n",
       "    .dataframe tbody tr th {\n",
       "        vertical-align: top;\n",
       "    }\n",
       "\n",
       "    .dataframe thead th {\n",
       "        text-align: right;\n",
       "    }\n",
       "</style>\n",
       "<table border=\"1\" class=\"dataframe\">\n",
       "  <thead>\n",
       "    <tr style=\"text-align: right;\">\n",
       "      <th></th>\n",
       "      <th>Mutation</th>\n",
       "      <th>Position</th>\n",
       "      <th>Mutant AA</th>\n",
       "      <th>WT AA</th>\n",
       "      <th>Count_3h</th>\n",
       "      <th>Total Count_3h</th>\n",
       "      <th>Count_percent_3h</th>\n",
       "      <th>Count_2h</th>\n",
       "      <th>Total Count_2h</th>\n",
       "      <th>Count_percent_2h</th>\n",
       "      <th>Log_2 Enrichment</th>\n",
       "    </tr>\n",
       "  </thead>\n",
       "  <tbody>\n",
       "    <tr>\n",
       "      <th>0</th>\n",
       "      <td>A19A</td>\n",
       "      <td>19</td>\n",
       "      <td>A</td>\n",
       "      <td>A</td>\n",
       "      <td>828480</td>\n",
       "      <td>830057</td>\n",
       "      <td>0.998100</td>\n",
       "      <td>1393749</td>\n",
       "      <td>1397156</td>\n",
       "      <td>0.997561</td>\n",
       "      <td>0.000779</td>\n",
       "    </tr>\n",
       "    <tr>\n",
       "      <th>1</th>\n",
       "      <td>A19D</td>\n",
       "      <td>19</td>\n",
       "      <td>D</td>\n",
       "      <td>A</td>\n",
       "      <td>22</td>\n",
       "      <td>830057</td>\n",
       "      <td>0.000027</td>\n",
       "      <td>69</td>\n",
       "      <td>1397156</td>\n",
       "      <td>0.000049</td>\n",
       "      <td>-0.897882</td>\n",
       "    </tr>\n",
       "    <tr>\n",
       "      <th>2</th>\n",
       "      <td>A19E</td>\n",
       "      <td>19</td>\n",
       "      <td>E</td>\n",
       "      <td>A</td>\n",
       "      <td>50</td>\n",
       "      <td>830057</td>\n",
       "      <td>0.000060</td>\n",
       "      <td>102</td>\n",
       "      <td>1397156</td>\n",
       "      <td>0.000073</td>\n",
       "      <td>-0.277358</td>\n",
       "    </tr>\n",
       "    <tr>\n",
       "      <th>3</th>\n",
       "      <td>A19F</td>\n",
       "      <td>19</td>\n",
       "      <td>F</td>\n",
       "      <td>A</td>\n",
       "      <td>117</td>\n",
       "      <td>830057</td>\n",
       "      <td>0.000141</td>\n",
       "      <td>735</td>\n",
       "      <td>1397156</td>\n",
       "      <td>0.000526</td>\n",
       "      <td>-1.900025</td>\n",
       "    </tr>\n",
       "    <tr>\n",
       "      <th>4</th>\n",
       "      <td>A19G</td>\n",
       "      <td>19</td>\n",
       "      <td>G</td>\n",
       "      <td>A</td>\n",
       "      <td>114</td>\n",
       "      <td>830057</td>\n",
       "      <td>0.000137</td>\n",
       "      <td>127</td>\n",
       "      <td>1397156</td>\n",
       "      <td>0.000091</td>\n",
       "      <td>0.595416</td>\n",
       "    </tr>\n",
       "  </tbody>\n",
       "</table>\n",
       "</div>"
      ],
      "text/plain": [
       "  Mutation  Position Mutant AA WT AA  Count_3h  Total Count_3h  \\\n",
       "0     A19A        19         A     A    828480          830057   \n",
       "1     A19D        19         D     A        22          830057   \n",
       "2     A19E        19         E     A        50          830057   \n",
       "3     A19F        19         F     A       117          830057   \n",
       "4     A19G        19         G     A       114          830057   \n",
       "\n",
       "   Count_percent_3h  Count_2h  Total Count_2h  Count_percent_2h  \\\n",
       "0          0.998100   1393749         1397156          0.997561   \n",
       "1          0.000027        69         1397156          0.000049   \n",
       "2          0.000060       102         1397156          0.000073   \n",
       "3          0.000141       735         1397156          0.000526   \n",
       "4          0.000137       127         1397156          0.000091   \n",
       "\n",
       "   Log_2 Enrichment  \n",
       "0          0.000779  \n",
       "1         -0.897882  \n",
       "2         -0.277358  \n",
       "3         -1.900025  \n",
       "4          0.595416  "
      ]
     },
     "execution_count": 56,
     "metadata": {},
     "output_type": "execute_result"
    }
   ],
   "source": [
    "cf_3_vs_cf_2 = pd.merge(cf_3, cf_2, on = ['Mutation', 'Position', 'Mutant AA', 'WT AA'])\n",
    "cf_3_vs_cf_2 = cf_3_vs_cf_2[[\"Mutation\", \"Position\", \"Mutant AA\", \"WT AA\", \"Count_x\", \"Total Count_x\", \"Count_percent_x\", \"Count_y\", \"Total Count_y\", \"Count_percent_y\"]]\n",
    "cf_3_vs_cf_2.rename(columns=lambda x: x.replace(\"_x\", \"_3h\").replace(\"_y\", \"_2h\"), inplace=True)\n",
    "cf_3_vs_cf_2['Log_2 Enrichment'] = np.log2(cf_3_vs_cf_0['Count_percent_3h']/cf_2_vs_cf_0['Count_percent_2h'])\n",
    "cf_3_vs_cf_2.head(5)"
   ]
  },
  {
   "cell_type": "code",
   "execution_count": 101,
   "id": "c6522c51-b3a6-457f-ac5b-0fc5f29157da",
   "metadata": {},
   "outputs": [],
   "source": [
    "cf_2_vs_cf_0.to_csv(\"D:\\\\gaotongliang\\\\cf_2_vs_cf_0.csv\")\n",
    "cf_3_vs_cf_0.to_csv(\"D:\\\\gaotongliang\\\\cf_3_vs_cf_0.csv\")\n",
    "cf_3_vs_cf_2.to_csv(\"D:\\\\gaotongliang\\\\cf_3_vs_cf_2.csv\")"
   ]
  },
  {
   "cell_type": "markdown",
   "id": "3061321f-ea48-40b4-a011-5051f87023cb",
   "metadata": {},
   "source": [
    "## 根据`cf_2_vs_cf_0 `，`cf_3_vs_cf_0` 和 `cf_3_vs_cf_2`的数据生成热图。"
   ]
  },
  {
   "cell_type": "markdown",
   "id": "235e057d-2516-4a43-84df-01e91063f080",
   "metadata": {},
   "source": [
    "### 横轴为Position, 纵轴为20种氨基酸（Mutant AA），映射的值为Log_2 Enrichment"
   ]
  },
  {
   "cell_type": "code",
   "execution_count": 57,
   "id": "a8d01ce1-2d8a-4fac-a9af-1861276411c7",
   "metadata": {},
   "outputs": [],
   "source": [
    "import seaborn as sns"
   ]
  },
  {
   "cell_type": "code",
   "execution_count": 58,
   "id": "83bdbbc0-a962-4cf0-92a8-0a47de7b77c3",
   "metadata": {},
   "outputs": [],
   "source": [
    "import matplotlib.pyplot as plt"
   ]
  },
  {
   "cell_type": "code",
   "execution_count": 67,
   "id": "e3c6636c-6bd8-4a46-9076-a787ec3c2460",
   "metadata": {},
   "outputs": [],
   "source": [
    "sns.set_palette('pastel')"
   ]
  },
  {
   "cell_type": "code",
   "execution_count": 76,
   "id": "38e6c0bf-b121-4d43-8d54-72e8b8bf8997",
   "metadata": {},
   "outputs": [],
   "source": [
    "# 定义所有可能的氨基酸\n",
    "amino_acids = list(\"ACDEFGHIKLMNPQRSTVWY\")"
   ]
  },
  {
   "cell_type": "code",
   "execution_count": 77,
   "id": "9432aff8-7d45-4e5c-912b-4261ea3dd6b8",
   "metadata": {},
   "outputs": [],
   "source": [
    "# 构建一个空的 DataFrame，用于存储热图数据\n",
    "heatmap_data_2 = pd.DataFrame(index=amino_acids, columns=cf_2_vs_cf_0['Position'].unique())"
   ]
  },
  {
   "cell_type": "code",
   "execution_count": 84,
   "id": "b4f043de-6b1a-4f0a-bf74-055520bb1454",
   "metadata": {},
   "outputs": [],
   "source": [
    "# 填充热图数据\n",
    "for _, row in cf_2_vs_cf_0.iterrows():\n",
    "    position = row['Position']\n",
    "    mutant_aa = row['Mutant AA']\n",
    "    wt_aa = row['WT AA']\n",
    "    log2_enrichment = row['Log_2 Enrichment']\n",
    "\n",
    "    # 如果 Mutant AA 等于 WT AA，则设置为 NaN（空白）\n",
    "    if mutant_aa == wt_aa:\n",
    "        heatmap_data_2.at[mutant_aa, position] = np.nan\n",
    "    else:\n",
    "        heatmap_data_2.at[mutant_aa, position] = log2_enrichment\n",
    "# 将列名转换为整数类型以便排序\n",
    "heatmap_data_2.columns = heatmap_data_2.columns.astype(int)\n",
    "heatmap_data_2 = heatmap_data_2[sorted(heatmap_data_2.columns)]\n",
    "# 确保所有值是浮点数\n",
    "heatmap_data_2 = heatmap_data_2.apply(pd.to_numeric, errors='coerce')"
   ]
  },
  {
   "cell_type": "code",
   "execution_count": 93,
   "id": "84662e03-09ff-407a-b674-eb83d0a5da9e",
   "metadata": {},
   "outputs": [
    {
     "data": {
      "image/png": "[encoded data removed]",
      "text/plain": [
       "<Figure size 6400x800 with 2 Axes>"
      ]
     },
     "metadata": {},
     "output_type": "display_data"
    }
   ],
   "source": [
    "# 绘制热图\n",
    "plt.figure(figsize=(64, 8))\n",
    "sns.heatmap(\n",
    "    heatmap_data_2,\n",
    "    cmap=\"coolwarm\",  # 使用 coolwarm 色盘\n",
    "    annot=False,     # 显示数值\n",
    "    fmt=\".2f\",      # 数值格式化为两位小数\n",
    "    cbar_kws={\"label\": r\"$\\log_2$ Enrichment\"},  # 使用 LaTeX 设置 Log₂ 下标\n",
    "    mask=heatmap_data_2.isnull(),  # 掩码掉 NaN 值（即野生型位点）\n",
    "    vmin=-2,          # 设置颜色映射的最小值\n",
    "    vmax=2            # 设置颜色映射的最大值\n",
    ")\n",
    "# 设置横坐标以 50 为单位距离\n",
    "positions = heatmap_data_2.columns\n",
    "plt.xticks(ticks=np.arange(len(positions))[::50], labels=positions[::50])\n",
    "\n",
    "# 高亮 WT AA（白色背景，黑边框）\n",
    "for _, row in cf_2_vs_cf_0.iterrows():\n",
    "    position = row['Position']\n",
    "    wt_aa = row['WT AA']\n",
    "    \n",
    "    # 获取 WT AA 在热图中的位置\n",
    "    x = np.where(heatmap_data_2.columns == position)[0][0]  # 横坐标索引\n",
    "    y = np.where(heatmap_data_2.index == wt_aa)[0][0]      # 纵坐标索引\n",
    "    \n",
    "    # 添加白色背景和黑边框\n",
    "    plt.gca().add_patch(plt.Rectangle((x, y), 1, 1, fill=True, edgecolor='black', facecolor='white', lw=0.5))\n",
    "# 设置标题和坐标轴标签\n",
    "plt.title(\"2-0 Heatmap\")\n",
    "plt.xlabel(\"Position\")\n",
    "plt.ylabel(\"Mutant AA\")\n",
    "\n",
    "# 显示图形\n",
    "plt.show()"
   ]
  },
  {
   "cell_type": "code",
   "execution_count": 94,
   "id": "8bf0135e-f94b-43c0-805b-7bcea44e0778",
   "metadata": {},
   "outputs": [],
   "source": [
    "# 构建一个空的 DataFrame，用于存储热图数据\n",
    "heatmap_data_3 = pd.DataFrame(index=amino_acids, columns=cf_3_vs_cf_0['Position'].unique())"
   ]
  },
  {
   "cell_type": "code",
   "execution_count": 95,
   "id": "53bc4a2d-da5f-4be0-837e-2309f4caddd4",
   "metadata": {},
   "outputs": [],
   "source": [
    "# 填充热图数据\n",
    "for _, row in cf_3_vs_cf_0.iterrows():\n",
    "    position = row['Position']\n",
    "    mutant_aa = row['Mutant AA']\n",
    "    wt_aa = row['WT AA']\n",
    "    log2_enrichment = row['Log_2 Enrichment']\n",
    "\n",
    "    # 如果 Mutant AA 等于 WT AA，则设置为 NaN（空白）\n",
    "    if mutant_aa == wt_aa:\n",
    "        heatmap_data_3.at[mutant_aa, position] = np.nan\n",
    "    else:\n",
    "        heatmap_data_3.at[mutant_aa, position] = log2_enrichment\n",
    "# 将列名转换为整数类型以便排序\n",
    "heatmap_data_3.columns = heatmap_data_3.columns.astype(int)\n",
    "heatmap_data_3 = heatmap_data_3[sorted(heatmap_data_3.columns)]\n",
    "# 确保所有值是浮点数\n",
    "heatmap_data_3 = heatmap_data_3.apply(pd.to_numeric, errors='coerce')"
   ]
  },
  {
   "cell_type": "code",
   "execution_count": 96,
   "id": "8f5a86d9-ea15-4e44-a033-c59693fe339b",
   "metadata": {},
   "outputs": [
    {
     "data": {
      "image/png": "[encoded data removed]",
      "text/plain": [
       "<Figure size 6400x800 with 2 Axes>"
      ]
     },
     "metadata": {},
     "output_type": "display_data"
    }
   ],
   "source": [
    "# 绘制热图\n",
    "plt.figure(figsize=(64, 8))\n",
    "sns.heatmap(\n",
    "    heatmap_data_3,\n",
    "    cmap=\"coolwarm\",  # 使用 coolwarm 色盘\n",
    "    annot=False,     # 显示数值\n",
    "    fmt=\".2f\",      # 数值格式化为两位小数\n",
    "    cbar_kws={\"label\": r\"$\\log_2$ Enrichment\"},  # 使用 LaTeX 设置 Log₂ 下标\n",
    "    mask=heatmap_data_2.isnull(),  # 掩码掉 NaN 值（即野生型位点）\n",
    "    vmin=-2,          # 设置颜色映射的最小值\n",
    "    vmax=2            # 设置颜色映射的最大值\n",
    ")\n",
    "# 设置横坐标以 50 为单位距离\n",
    "positions = heatmap_data_3.columns\n",
    "plt.xticks(ticks=np.arange(len(positions))[::50], labels=positions[::50])\n",
    "\n",
    "# 高亮 WT AA（白色背景，黑边框）\n",
    "for _, row in cf_3_vs_cf_0.iterrows():\n",
    "    position = row['Position']\n",
    "    wt_aa = row['WT AA']\n",
    "    \n",
    "    # 获取 WT AA 在热图中的位置\n",
    "    x = np.where(heatmap_data_3.columns == position)[0][0]  # 横坐标索引\n",
    "    y = np.where(heatmap_data_3.index == wt_aa)[0][0]      # 纵坐标索引\n",
    "    \n",
    "    # 添加白色背景和黑边框\n",
    "    plt.gca().add_patch(plt.Rectangle((x, y), 1, 1, fill=True, edgecolor='black', facecolor='white', lw=0.5))\n",
    "# 设置标题和坐标轴标签\n",
    "plt.title(\"3-0 Heatmap\")\n",
    "plt.xlabel(\"Position\")\n",
    "plt.ylabel(\"Mutant AA\")\n",
    "\n",
    "# 显示图形\n",
    "plt.show()"
   ]
  },
  {
   "cell_type": "code",
   "execution_count": 97,
   "id": "ce94b715-ab8c-4492-b742-ff5be4f76087",
   "metadata": {},
   "outputs": [],
   "source": [
    "# 构建一个空的 DataFrame，用于存储热图数据\n",
    "heatmap_data_3_2 = pd.DataFrame(index=amino_acids, columns=cf_3_vs_cf_2['Position'].unique())"
   ]
  },
  {
   "cell_type": "code",
   "execution_count": 98,
   "id": "26d42fcf-d473-43c0-93c3-cbf4ba7993d1",
   "metadata": {},
   "outputs": [],
   "source": [
    "# 填充热图数据\n",
    "for _, row in cf_3_vs_cf_2.iterrows():\n",
    "    position = row['Position']\n",
    "    mutant_aa = row['Mutant AA']\n",
    "    wt_aa = row['WT AA']\n",
    "    log2_enrichment = row['Log_2 Enrichment']\n",
    "\n",
    "    # 如果 Mutant AA 等于 WT AA，则设置为 NaN（空白）\n",
    "    if mutant_aa == wt_aa:\n",
    "        heatmap_data_3_2.at[mutant_aa, position] = np.nan\n",
    "    else:\n",
    "        heatmap_data_3_2.at[mutant_aa, position] = log2_enrichment\n",
    "# 将列名转换为整数类型以便排序\n",
    "heatmap_data_3_2.columns = heatmap_data_3_2.columns.astype(int)\n",
    "heatmap_data_3_2 = heatmap_data_3_2[sorted(heatmap_data_3.columns)]\n",
    "# 确保所有值是浮点数\n",
    "heatmap_data_3_2 = heatmap_data_3_2.apply(pd.to_numeric, errors='coerce')"
   ]
  },
  {
   "cell_type": "code",
   "execution_count": 99,
   "id": "025ca93e-5681-4808-a298-5601699b5c53",
   "metadata": {},
   "outputs": [
    {
     "data": {
      "image/png": "[encoded data removed]",
      "text/plain": [
       "<Figure size 6400x800 with 2 Axes>"
      ]
     },
     "metadata": {},
     "output_type": "display_data"
    }
   ],
   "source": [
    "# 绘制热图\n",
    "plt.figure(figsize=(64, 8))\n",
    "sns.heatmap(\n",
    "    heatmap_data_3_2,\n",
    "    cmap=\"coolwarm\",  # 使用 coolwarm 色盘\n",
    "    annot=False,     # 显示数值\n",
    "    fmt=\".2f\",      # 数值格式化为两位小数\n",
    "    cbar_kws={\"label\": r\"$\\log_2$ Enrichment\"},  # 使用 LaTeX 设置 Log₂ 下标\n",
    "    mask=heatmap_data_2.isnull(),  # 掩码掉 NaN 值（即野生型位点）\n",
    "    vmin=-2,          # 设置颜色映射的最小值\n",
    "    vmax=2            # 设置颜色映射的最大值\n",
    ")\n",
    "# 设置横坐标以 50 为单位距离\n",
    "positions = heatmap_data_3_2.columns\n",
    "plt.xticks(ticks=np.arange(len(positions))[::50], labels=positions[::50])\n",
    "\n",
    "# 高亮 WT AA（白色背景，黑边框）\n",
    "for _, row in cf_3_vs_cf_2.iterrows():\n",
    "    position = row['Position']\n",
    "    wt_aa = row['WT AA']\n",
    "    \n",
    "    # 获取 WT AA 在热图中的位置\n",
    "    x = np.where(heatmap_data_3_2.columns == position)[0][0]  # 横坐标索引\n",
    "    y = np.where(heatmap_data_3_2.index == wt_aa)[0][0]      # 纵坐标索引\n",
    "    \n",
    "    # 添加白色背景和黑边框\n",
    "    plt.gca().add_patch(plt.Rectangle((x, y), 1, 1, fill=True, edgecolor='black', facecolor='white', lw=0.5))\n",
    "# 设置标题和坐标轴标签\n",
    "plt.title(\"3-2 Heatmap\")\n",
    "plt.xlabel(\"Position\")\n",
    "plt.ylabel(\"Mutant AA\")\n",
    "\n",
    "# 显示图形\n",
    "plt.show()"
   ]
  }
 ],
 "metadata": {
  "kernelspec": {
   "display_name": "Python 3 (ipykernel)",
   "language": "python",
   "name": "python3"
  },
  "language_info": {
   "codemirror_mode": {
    "name": "ipython",
    "version": 3
   },
   "file_extension": ".py",
   "mimetype": "text/x-python",
   "name": "python",
   "nbconvert_exporter": "python",
   "pygments_lexer": "ipython3",
   "version": "3.11.1"
  }
 },
 "nbformat": 4,
 "nbformat_minor": 5
}
